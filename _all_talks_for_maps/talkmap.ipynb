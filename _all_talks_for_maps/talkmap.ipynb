{
 "cells": [
  {
   "cell_type": "markdown",
   "source": [
    "# Leaflet cluster map of talk locations\n",
    "\n",
    "Run this from the _talks/ directory, which contains .md files of all your talks. This scrapes the location YAML field from each .md file, geolocates it with geopy/Nominatim, and uses the getorg library to output data, HTML, and Javascript for a standalone cluster map."
   ],
   "metadata": {}
  },
  {
   "cell_type": "code",
   "execution_count": 33,
   "source": [
    "!pip install getorg --upgrade\n",
    "import glob\n",
    "import getorg\n",
    "from geopy import Nominatim"
   ],
   "outputs": [
    {
     "output_type": "stream",
     "name": "stdout",
     "text": [
      "Requirement already satisfied: getorg in /opt/anaconda3/lib/python3.8/site-packages (0.3.1)\n",
      "Requirement already satisfied: geopy in /opt/anaconda3/lib/python3.8/site-packages (from getorg) (2.2.0)\n",
      "Requirement already satisfied: retrying in /opt/anaconda3/lib/python3.8/site-packages (from getorg) (1.3.3)\n",
      "Requirement already satisfied: pygithub in /opt/anaconda3/lib/python3.8/site-packages (from getorg) (1.53)\n",
      "Requirement already satisfied: geographiclib<2,>=1.49 in /opt/anaconda3/lib/python3.8/site-packages (from geopy->getorg) (1.52)\n",
      "Requirement already satisfied: pyjwt in /opt/anaconda3/lib/python3.8/site-packages (from pygithub->getorg) (2.1.0)\n",
      "Requirement already satisfied: requests>=2.14.0 in /opt/anaconda3/lib/python3.8/site-packages (from pygithub->getorg) (2.25.1)\n",
      "Requirement already satisfied: deprecated in /opt/anaconda3/lib/python3.8/site-packages (from pygithub->getorg) (1.2.10)\n",
      "Requirement already satisfied: certifi>=2017.4.17 in /opt/anaconda3/lib/python3.8/site-packages (from requests>=2.14.0->pygithub->getorg) (2021.5.30)\n",
      "Requirement already satisfied: chardet<5,>=3.0.2 in /opt/anaconda3/lib/python3.8/site-packages (from requests>=2.14.0->pygithub->getorg) (4.0.0)\n",
      "Requirement already satisfied: urllib3<1.27,>=1.21.1 in /opt/anaconda3/lib/python3.8/site-packages (from requests>=2.14.0->pygithub->getorg) (1.26.5)\n",
      "Requirement already satisfied: idna<3,>=2.5 in /opt/anaconda3/lib/python3.8/site-packages (from requests>=2.14.0->pygithub->getorg) (2.10)\n",
      "Requirement already satisfied: wrapt<2,>=1.10 in /opt/anaconda3/lib/python3.8/site-packages (from deprecated->pygithub->getorg) (1.12.1)\n",
      "Requirement already satisfied: six>=1.7.0 in /opt/anaconda3/lib/python3.8/site-packages (from retrying->getorg) (1.16.0)\n"
     ]
    }
   ],
   "metadata": {
    "collapsed": false
   }
  },
  {
   "cell_type": "code",
   "execution_count": 43,
   "source": [
    "g = glob.glob(\"*.md\")"
   ],
   "outputs": [],
   "metadata": {
    "collapsed": false
   }
  },
  {
   "cell_type": "code",
   "execution_count": 48,
   "source": [
    "geocoder = Nominatim(user_agent='my_application')\n",
    "location_dict = {}\n",
    "location = \"\"\n",
    "permalink = \"\"\n",
    "title = \"\"\n"
   ],
   "outputs": [],
   "metadata": {
    "collapsed": true
   }
  },
  {
   "cell_type": "code",
   "execution_count": 49,
   "source": [
    "location_count = {}\n",
    "\n",
    "for file in g:\n",
    "    with open(file, 'r') as f:\n",
    "        lines = f.read()\n",
    "        if lines.find('location: \"') > 1:\n",
    "            loc_start = lines.find('location: \"') + 11\n",
    "            lines_trim = lines[loc_start:]\n",
    "            loc_end = lines_trim.find('\"')\n",
    "            location = lines_trim[:loc_end]\n",
    "\n",
    "            try:\n",
    "                location_count[location] += 1\n",
    "            except KeyError:\n",
    "                location_count[location] = 1\n",
    "        \n",
    "        if location_count[location] > 1:\n",
    "            location_dict[f'{location} {location_count[location]}'] = geocoder.geocode(location)\n",
    "            print(location, \"\\n\", location_dict[f'{location} {location_count[location]}'])\n",
    "        else:\n",
    "            location_dict[location] = geocoder.geocode(location)\n",
    "            print(location, \"\\n\", location_dict[location])\n",
    "        \n"
   ],
   "outputs": [
    {
     "output_type": "stream",
     "name": "stdout",
     "text": [
      "Mankato, MN \n",
      " Mankato, Blue Earth County, Minnesota, United States\n",
      "Ames, IA \n",
      " Ames, Story County, Iowa, 50010, United States\n",
      "Ames, IA \n",
      " Ames, Story County, Iowa, 50010, United States\n",
      "Ames, IA \n",
      " Ames, Story County, Iowa, 50010, United States\n",
      "Ames, IA \n",
      " Ames, Story County, Iowa, 50010, United States\n",
      "Northfield, MN \n",
      " Northfield, Rice County, Minnesota, United States\n",
      "Waverly, IA \n",
      " Waverly, Bremer County, Iowa, 50677, United States\n",
      "Ames, IA \n",
      " Ames, Story County, Iowa, 50010, United States\n",
      "Braunschweig, Germany \n",
      " Braunschweig, Niedersachsen, Deutschland\n",
      "Banff, Canada \n",
      " Banff, Alberta, T1L 1A6, Canada\n",
      "Minneapolis, MN \n",
      " Minneapolis, Hennepin County, Minnesota, United States\n",
      "Minneapolis, MN \n",
      " Minneapolis, Hennepin County, Minnesota, United States\n",
      "St. Paul, MN \n",
      " Saint Paul, Ramsey County, Minnesota, 55101, United States\n",
      "Boca Raton, FL \n",
      " Boca Raton, Palm Beach County, Florida, 33432, United States\n",
      "Leuven, Belgium \n",
      " Leuven, Vlaams-Brabant, Vlaanderen, België / Belgique / Belgien\n",
      "St. Paul, MN \n",
      " Saint Paul, Ramsey County, Minnesota, 55101, United States\n",
      "Ames, IA \n",
      " Ames, Story County, Iowa, 50010, United States\n",
      "Ames, IA \n",
      " Ames, Story County, Iowa, 50010, United States\n",
      "Ames, IA \n",
      " Ames, Story County, Iowa, 50010, United States\n",
      "St. Paul, MN \n",
      " Saint Paul, Ramsey County, Minnesota, 55101, United States\n",
      "Ames, IA \n",
      " Ames, Story County, Iowa, 50010, United States\n",
      "Providence, RI \n",
      " The Salvation Army of Providence, RI, 386, Broad Street, Providence, Providence County, Rhode Island, 02907, United States\n",
      "Lincoln, NE \n",
      " Sutherland, NE, Tower Road, Lincoln County, Nebraska, United States\n"
     ]
    }
   ],
   "metadata": {
    "collapsed": false
   }
  },
  {
   "cell_type": "code",
   "execution_count": 50,
   "source": [
    "location_dict"
   ],
   "outputs": [
    {
     "output_type": "execute_result",
     "data": {
      "text/plain": [
       "{'Mankato, MN': Location(Mankato, Blue Earth County, Minnesota, United States, (44.1634663, -93.9993505, 0.0)),\n",
       " 'Ames, IA': Location(Ames, Story County, Iowa, 50010, United States, (42.0267567, -93.6170448, 0.0)),\n",
       " 'Ames, IA 2': Location(Ames, Story County, Iowa, 50010, United States, (42.0267567, -93.6170448, 0.0)),\n",
       " 'Ames, IA 3': Location(Ames, Story County, Iowa, 50010, United States, (42.0267567, -93.6170448, 0.0)),\n",
       " 'Ames, IA 4': Location(Ames, Story County, Iowa, 50010, United States, (42.0267567, -93.6170448, 0.0)),\n",
       " 'Northfield, MN': Location(Northfield, Rice County, Minnesota, United States, (44.4582041, -93.161159, 0.0)),\n",
       " 'Waverly, IA': Location(Waverly, Bremer County, Iowa, 50677, United States, (42.7258142, -92.4754626, 0.0)),\n",
       " 'Ames, IA 5': Location(Ames, Story County, Iowa, 50010, United States, (42.0267567, -93.6170448, 0.0)),\n",
       " 'Braunschweig, Germany': Location(Braunschweig, Niedersachsen, Deutschland, (52.2646577, 10.5236066, 0.0)),\n",
       " 'Banff, Canada': Location(Banff, Alberta, T1L 1A6, Canada, (51.1777781, -115.5682504, 0.0)),\n",
       " 'Minneapolis, MN': Location(Minneapolis, Hennepin County, Minnesota, United States, (44.9772995, -93.2654692, 0.0)),\n",
       " 'Minneapolis, MN 2': Location(Minneapolis, Hennepin County, Minnesota, United States, (44.9772995, -93.2654692, 0.0)),\n",
       " 'St. Paul, MN': Location(Saint Paul, Ramsey County, Minnesota, 55101, United States, (44.9497487, -93.0931028, 0.0)),\n",
       " 'Boca Raton, FL': Location(Boca Raton, Palm Beach County, Florida, 33432, United States, (26.3586885, -80.0830984, 0.0)),\n",
       " 'Leuven, Belgium': Location(Leuven, Vlaams-Brabant, Vlaanderen, België / Belgique / Belgien, (50.879202, 4.7011675, 0.0)),\n",
       " 'St. Paul, MN 2': Location(Saint Paul, Ramsey County, Minnesota, 55101, United States, (44.9497487, -93.0931028, 0.0)),\n",
       " 'Ames, IA 6': Location(Ames, Story County, Iowa, 50010, United States, (42.0267567, -93.6170448, 0.0)),\n",
       " 'Ames, IA 7': Location(Ames, Story County, Iowa, 50010, United States, (42.0267567, -93.6170448, 0.0)),\n",
       " 'Ames, IA 8': Location(Ames, Story County, Iowa, 50010, United States, (42.0267567, -93.6170448, 0.0)),\n",
       " 'St. Paul, MN 3': Location(Saint Paul, Ramsey County, Minnesota, 55101, United States, (44.9497487, -93.0931028, 0.0)),\n",
       " 'Ames, IA 9': Location(Ames, Story County, Iowa, 50010, United States, (42.0267567, -93.6170448, 0.0)),\n",
       " 'Providence, RI': Location(The Salvation Army of Providence, RI, 386, Broad Street, Providence, Providence County, Rhode Island, 02907, United States, (41.81297055, -71.4214012516332, 0.0)),\n",
       " 'Lincoln, NE': Location(Sutherland, NE, Tower Road, Lincoln County, Nebraska, United States, (41.1280799, -101.1313806, 0.0))}"
      ]
     },
     "metadata": {},
     "execution_count": 50
    }
   ],
   "metadata": {}
  },
  {
   "cell_type": "code",
   "execution_count": null,
   "source": [],
   "outputs": [],
   "metadata": {}
  },
  {
   "cell_type": "code",
   "execution_count": null,
   "source": [],
   "outputs": [],
   "metadata": {}
  },
  {
   "cell_type": "code",
   "execution_count": 51,
   "source": [
    "m = getorg.orgmap.create_map_obj()\n",
    "getorg.orgmap.output_html_cluster_map(location_dict, folder_name=\"../talkmap\", hashed_usernames=False)"
   ],
   "outputs": [
    {
     "output_type": "execute_result",
     "data": {
      "text/plain": [
       "'Written map to ../talkmap/'"
      ]
     },
     "metadata": {},
     "execution_count": 51
    }
   ],
   "metadata": {
    "collapsed": false
   }
  },
  {
   "cell_type": "code",
   "execution_count": null,
   "source": [],
   "outputs": [],
   "metadata": {}
  }
 ],
 "metadata": {
  "anaconda-cloud": {},
  "kernelspec": {
   "name": "python3",
   "display_name": "Python 3.8.10 64-bit ('base': conda)"
  },
  "language_info": {
   "codemirror_mode": {
    "name": "ipython",
    "version": 3
   },
   "file_extension": ".py",
   "mimetype": "text/x-python",
   "name": "python",
   "nbconvert_exporter": "python",
   "pygments_lexer": "ipython3",
   "version": "3.8.10"
  },
  "interpreter": {
   "hash": "dca0ade3e726a953b501b15e8e990130d2b7799f14cfd9f4271676035ebe5511"
  }
 },
 "nbformat": 4,
 "nbformat_minor": 2
}