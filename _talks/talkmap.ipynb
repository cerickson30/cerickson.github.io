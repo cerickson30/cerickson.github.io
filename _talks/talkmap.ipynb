{
 "cells": [
  {
   "cell_type": "markdown",
   "source": [
    "# Leaflet cluster map of talk locations\n",
    "\n",
    "Run this from the _talks/ directory, which contains .md files of all your talks. This scrapes the location YAML field from each .md file, geolocates it with geopy/Nominatim, and uses the getorg library to output data, HTML, and Javascript for a standalone cluster map."
   ],
   "metadata": {}
  },
  {
   "cell_type": "code",
   "execution_count": 5,
   "source": [
    "!pip install getorg --upgrade\n",
    "import glob\n",
    "import getorg\n",
    "from geopy import Nominatim"
   ],
   "outputs": [
    {
     "output_type": "stream",
     "name": "stdout",
     "text": [
      "Requirement already satisfied: getorg in /opt/anaconda3/lib/python3.8/site-packages (0.3.1)\n",
      "Requirement already satisfied: geopy in /opt/anaconda3/lib/python3.8/site-packages (from getorg) (2.2.0)\n",
      "Requirement already satisfied: pygithub in /opt/anaconda3/lib/python3.8/site-packages (from getorg) (1.53)\n",
      "Requirement already satisfied: retrying in /opt/anaconda3/lib/python3.8/site-packages (from getorg) (1.3.3)\n",
      "Requirement already satisfied: geographiclib<2,>=1.49 in /opt/anaconda3/lib/python3.8/site-packages (from geopy->getorg) (1.52)\n",
      "Requirement already satisfied: pyjwt in /opt/anaconda3/lib/python3.8/site-packages (from pygithub->getorg) (2.1.0)\n",
      "Requirement already satisfied: deprecated in /opt/anaconda3/lib/python3.8/site-packages (from pygithub->getorg) (1.2.10)\n",
      "Requirement already satisfied: requests>=2.14.0 in /opt/anaconda3/lib/python3.8/site-packages (from pygithub->getorg) (2.25.1)\n",
      "Requirement already satisfied: certifi>=2017.4.17 in /opt/anaconda3/lib/python3.8/site-packages (from requests>=2.14.0->pygithub->getorg) (2021.5.30)\n",
      "Requirement already satisfied: urllib3<1.27,>=1.21.1 in /opt/anaconda3/lib/python3.8/site-packages (from requests>=2.14.0->pygithub->getorg) (1.26.5)\n",
      "Requirement already satisfied: chardet<5,>=3.0.2 in /opt/anaconda3/lib/python3.8/site-packages (from requests>=2.14.0->pygithub->getorg) (4.0.0)\n",
      "Requirement already satisfied: idna<3,>=2.5 in /opt/anaconda3/lib/python3.8/site-packages (from requests>=2.14.0->pygithub->getorg) (2.10)\n",
      "Requirement already satisfied: wrapt<2,>=1.10 in /opt/anaconda3/lib/python3.8/site-packages (from deprecated->pygithub->getorg) (1.12.1)\n",
      "Requirement already satisfied: six>=1.7.0 in /opt/anaconda3/lib/python3.8/site-packages (from retrying->getorg) (1.16.0)\n"
     ]
    }
   ],
   "metadata": {
    "collapsed": false
   }
  },
  {
   "cell_type": "code",
   "execution_count": 6,
   "source": [
    "g = glob.glob(\"*.md\")"
   ],
   "outputs": [],
   "metadata": {
    "collapsed": false
   }
  },
  {
   "cell_type": "code",
   "execution_count": 7,
   "source": [
    "geocoder = Nominatim(user_agent='my_application')\n",
    "location_dict = {}\n",
    "location = \"\"\n",
    "permalink = \"\"\n",
    "title = \"\""
   ],
   "outputs": [],
   "metadata": {
    "collapsed": true
   }
  },
  {
   "cell_type": "code",
   "execution_count": 8,
   "source": [
    "\n",
    "for file in g:\n",
    "    with open(file, 'r') as f:\n",
    "        lines = f.read()\n",
    "        if lines.find('location: \"') > 1:\n",
    "            loc_start = lines.find('location: \"') + 11\n",
    "            lines_trim = lines[loc_start:]\n",
    "            loc_end = lines_trim.find('\"')\n",
    "            location = lines_trim[:loc_end]\n",
    "                            \n",
    "           \n",
    "        location_dict[location] = geocoder.geocode(location)\n",
    "        print(location, \"\\n\", location_dict[location])\n"
   ],
   "outputs": [
    {
     "output_type": "stream",
     "name": "stdout",
     "text": [
      "Northfield, MN \n",
      " Northfield, Rice County, Minnesota, United States\n",
      "Braunschweig, Germany \n",
      " Braunschweig, Niedersachsen, Deutschland\n",
      "Minneapolis, MN \n",
      " Minneapolis, Hennepin County, Minnesota, United States\n",
      "Minneapolis, MN \n",
      " Minneapolis, Hennepin County, Minnesota, United States\n",
      "Boca Raton, FL \n",
      " Boca Raton, Palm Beach County, Florida, 33432, United States\n",
      "Leuven, Belgium \n",
      " Leuven, Vlaams-Brabant, Vlaanderen, België / Belgique / Belgien\n",
      "Saint Paul, MN \n",
      " Saint Paul, Ramsey County, Minnesota, 55101, United States\n",
      "Ames, IA \n",
      " Ames, Story County, Iowa, 50010, United States\n",
      "Providence, RI \n",
      " The Salvation Army of Providence, RI, 386, Broad Street, Providence, Providence County, Rhode Island, 02907, United States\n",
      "Lincoln, NE \n",
      " Sutherland, NE, Tower Road, Lincoln County, Nebraska, United States\n"
     ]
    }
   ],
   "metadata": {
    "collapsed": false
   }
  },
  {
   "cell_type": "code",
   "execution_count": 9,
   "source": [
    "m = getorg.orgmap.create_map_obj()\n",
    "getorg.orgmap.output_html_cluster_map(location_dict, folder_name=\"../talkmap\", hashed_usernames=False)"
   ],
   "outputs": [
    {
     "output_type": "execute_result",
     "data": {
      "text/plain": [
       "'Written map to ../talkmap/'"
      ]
     },
     "metadata": {},
     "execution_count": 9
    }
   ],
   "metadata": {
    "collapsed": false
   }
  },
  {
   "cell_type": "code",
   "execution_count": null,
   "source": [],
   "outputs": [],
   "metadata": {
    "collapsed": true
   }
  }
 ],
 "metadata": {
  "anaconda-cloud": {},
  "kernelspec": {
   "name": "python3",
   "display_name": "Python 3.8.10 64-bit ('base': conda)"
  },
  "language_info": {
   "codemirror_mode": {
    "name": "ipython",
    "version": 3
   },
   "file_extension": ".py",
   "mimetype": "text/x-python",
   "name": "python",
   "nbconvert_exporter": "python",
   "pygments_lexer": "ipython3",
   "version": "3.8.10"
  },
  "interpreter": {
   "hash": "dca0ade3e726a953b501b15e8e990130d2b7799f14cfd9f4271676035ebe5511"
  }
 },
 "nbformat": 4,
 "nbformat_minor": 2
}