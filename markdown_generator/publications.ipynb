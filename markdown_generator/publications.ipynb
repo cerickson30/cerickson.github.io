{
 "cells": [
  {
   "cell_type": "markdown",
   "source": [
    "# Publications markdown generator for academicpages\n",
    "\n",
    "Takes a TSV of publications with metadata and converts them for use with [academicpages.github.io](academicpages.github.io). This is an interactive Jupyter notebook ([see more info here](http://jupyter-notebook-beginner-guide.readthedocs.io/en/latest/what_is_jupyter.html)). The core python code is also in `publications.py`. Run either from the `markdown_generator` folder after replacing `publications.tsv` with one containing your data.\n",
    "\n",
    "TODO: Make this work with BibTex and other databases of citations, rather than Stuart's non-standard TSV format and citation style.\n"
   ],
   "metadata": {
    "deletable": true,
    "editable": true
   }
  },
  {
   "cell_type": "markdown",
   "source": [
    "## Data format\n",
    "\n",
    "The TSV needs to have the following columns: pub_date, title, venue, excerpt, citation, site_url, and paper_url, with a header at the top. \n",
    "\n",
    "- `excerpt` and `paper_url` can be blank, but the others must have values. \n",
    "- `pub_date` must be formatted as YYYY-MM-DD.\n",
    "- `url_slug` will be the descriptive part of the .md file and the permalink URL for the page about the paper. The .md file will be `YYYY-MM-DD-[url_slug].md` and the permalink will be `https://[yourdomain]/publications/YYYY-MM-DD-[url_slug]`\n",
    "\n",
    "This is how the raw file looks (it doesn't look pretty, use a spreadsheet or other program to edit and create)."
   ],
   "metadata": {}
  },
  {
   "cell_type": "code",
   "execution_count": 3,
   "source": [
    "!cat publications.csv"
   ],
   "outputs": [
    {
     "output_type": "stream",
     "name": "stdout",
     "text": [
      "pub_date; title; venue; excerpt; citation; url_slug; paper_url\n",
      "2010-03-01; On nilpotence indices of sign patterns; Commun. Korean Math. Soc.; This paper is about the number 1. The number 2 is left for future work.; Your Name, You. (2009). \"On nilpotence indices of sign patterns.\" <i>Journal 1</i>. 1(1).; on-nilpotence-indices-of-sign-patterns; http://academicpages.github.io/files/paper1.pdf\n",
      "2011-06-10; Constructions of potentially eventually positive sign patterns with reducible positive part; Involve; This paper is about the number 1. The number 2 is left for future work.; Your Name, You. (2009). \"Constructions of potentially eventually positive sign patterns with reducible positive part.\" <i>Journal 1</i>. 1(1).; constructions-of-potentially-eventually-positive-sign-patterns-with-reducible-positive-part; http://academicpages.github.io/files/paper1.pdf\n",
      "2012-01-01; Sign patterns that allow strong eventual nonnegativity; Electron. J. Linear Algebra; This paper is about the number 1. The number 2 is left for future work.; Your Name, You. (2009). \"Sign patterns that allow strong eventual nonnegativity.\" <i>Journal 1</i>. 1(1).; sign-patterns-that-allow-strong-eventual-nonnegativity; http://academicpages.github.io/files/paper1.pdf\n",
      "2012-01-01; Note on positive semidefinite maximum nullity and positive semidefinite zero forcing number of partial 2-trees; Electron. J. Linear Algebra; This paper is about the number 1. The number 2 is left for future work.; Your Name, You. (2009). \"Note on positive semidefinite maximum nullity and positive semidefinite zero forcing number of partial 2-trees.\" <i>Journal 1</i>. 1(1).; note-on-positive-semidefinite-maximum-nullity-and-positive-semidefinite-zero-forcing-number-of-partial-2-trees; http://academicpages.github.io/files/paper1.pdf\n",
      "2013-09-08; Potentially eventually exponentially positive sign patterns; Involve; This paper is about the number 1. The number 2 is left for future work.; Your Name, You. (2009). \"Potentially eventually exponentially positive sign patterns.\" <i>Journal 1</i>. 1(1).; potentially-eventually-exponentially-positive-sign-patterns; http://academicpages.github.io/files/paper1.pdf\n",
      "2013-10-01; Positive semidefinite zero forcing; Linear Algebra Appl.; This paper is about the number 1. The number 2 is left for future work.; Your Name, You. (2009). \"Positive semidefinite zero forcing.\" <i>Journal 1</i>. 1(1).; positive-semidefinite-zero-forcing; http://academicpages.github.io/files/paper1.pdf\n",
      "2015-02-08; Sign patterns that require eventual exponential nonnegativity; Electron. J. Linear Algebra; This paper is about the number 1. The number 2 is left for future work.; Your Name, You. (2009). \"Sign patterns that require eventual exponential nonnegativity.\" <i>Journal 1</i>. 1(1).; sign-patterns-that-require-eventual-exponential-nonnegativity; http://academicpages.github.io/files/paper1.pdf\n",
      "2016-08-16; Rainbow arithmetic progressions; J. Comb.; This paper is about the number 1. The number 2 is left for future work.; Your Name, You. (2009). \"Rainbow arithmetic progressions.\" <i>Journal 1</i>. 1(1).; rainbow-arithmetic-progressions; http://academicpages.github.io/files/paper1.pdf\n",
      "2019-07-21; Restricted power domination and zero forcing problems; J. Comb. Optim.; This paper is about the number 1. The number 2 is left for future work.; Your Name, You. (2009). \"Restricted power domination and zero forcing problems.\" <i>Journal 1</i>. 1(1).; restricted-power-domination-and-zero-forcing-problems; http://academicpages.github.io/files/paper1.pdf\n",
      "2020-07-13; Properties of a <i>q</i>-analogue for zero forcing; Graphs Combin.; This paper is about the number 1. The number 2 is left for future work.; Your Name, You. (2009). \"Properties of a <i>q</i>-analogue for zero forcing.\" <i>Journal 1</i>. 1(1).; properties-of-a-q-analogue-for-zero-forcing; http://academicpages.github.io/files/paper1.pdf"
     ]
    }
   ],
   "metadata": {
    "collapsed": false
   }
  },
  {
   "cell_type": "markdown",
   "source": [
    "## Import pandas\n",
    "\n",
    "We are using the very handy pandas library for dataframes."
   ],
   "metadata": {}
  },
  {
   "cell_type": "code",
   "execution_count": 4,
   "source": [
    "import pandas as pd"
   ],
   "outputs": [],
   "metadata": {
    "collapsed": true,
    "deletable": true,
    "editable": true
   }
  },
  {
   "cell_type": "markdown",
   "source": [
    "## Import TSV\n",
    "\n",
    "Pandas makes this easy with the read_csv function. We are using a TSV, so we specify the separator as a tab, or `\\t`.\n",
    "\n",
    "I found it important to put this data in a tab-separated values format, because there are a lot of commas in this kind of data and comma-separated values can get messed up. However, you can modify the import statement, as pandas also has read_excel(), read_json(), and others."
   ],
   "metadata": {}
  },
  {
   "cell_type": "code",
   "execution_count": 5,
   "source": [
    "publications = pd.read_csv(\"publications.tsv\", sep='\\t', header=0)\n",
    "publications\n"
   ],
   "outputs": [
    {
     "output_type": "execute_result",
     "data": {
      "text/html": [
       "<div>\n",
       "<style scoped>\n",
       "    .dataframe tbody tr th:only-of-type {\n",
       "        vertical-align: middle;\n",
       "    }\n",
       "\n",
       "    .dataframe tbody tr th {\n",
       "        vertical-align: top;\n",
       "    }\n",
       "\n",
       "    .dataframe thead th {\n",
       "        text-align: right;\n",
       "    }\n",
       "</style>\n",
       "<table border=\"1\" class=\"dataframe\">\n",
       "  <thead>\n",
       "    <tr style=\"text-align: right;\">\n",
       "      <th></th>\n",
       "      <th>pub_date</th>\n",
       "      <th>title</th>\n",
       "      <th>venue</th>\n",
       "      <th>excerpt</th>\n",
       "      <th>citation</th>\n",
       "      <th>url_slug</th>\n",
       "      <th>paper_url</th>\n",
       "    </tr>\n",
       "  </thead>\n",
       "  <tbody>\n",
       "    <tr>\n",
       "      <th>0</th>\n",
       "      <td>2010-03-01</td>\n",
       "      <td>On nilpotence indices of sign patterns</td>\n",
       "      <td>Commun. Korean Math. Soc.</td>\n",
       "      <td>The work in this paper was motivated by Eschen...</td>\n",
       "      <td>C. Erickson and I.-J. Kim. ”On nilpotence indi...</td>\n",
       "      <td>on-nilpotence-indices-of-sign-patterns</td>\n",
       "      <td>https://doi.org/10.4134/CKMS.2010.25.1.11</td>\n",
       "    </tr>\n",
       "    <tr>\n",
       "      <th>1</th>\n",
       "      <td>2011-06-10</td>\n",
       "      <td>Constructions of potentially eventually positi...</td>\n",
       "      <td>nvolve</td>\n",
       "      <td>Potentially eventually positive (PEP) sign pat...</td>\n",
       "      <td>M. Archer, M. Catral, C. Erickson, R. Haber, L...</td>\n",
       "      <td>constructions-of-potentially-eventually-positi...</td>\n",
       "      <td>https://doi.org/10.2140/involve.2011.4.405</td>\n",
       "    </tr>\n",
       "    <tr>\n",
       "      <th>2</th>\n",
       "      <td>2012-01-01</td>\n",
       "      <td>Sign patterns that allow strong eventual nonne...</td>\n",
       "      <td>Electron. J. Linear Algebra</td>\n",
       "      <td>A new class of sign patterns contained in the ...</td>\n",
       "      <td>M. Catral, C. Erickson, L. Hogben, D.D. Olesky...</td>\n",
       "      <td>sign-patterns-that-allow-strong-eventual-nonne...</td>\n",
       "      <td>https://doi.org/10.13001/1081-3810.1502</td>\n",
       "    </tr>\n",
       "    <tr>\n",
       "      <th>3</th>\n",
       "      <td>2012-01-01</td>\n",
       "      <td>Note on positive semidefinite maximum nullity ...</td>\n",
       "      <td>Electron. J. Linear Algebra</td>\n",
       "      <td>The definition of the positive semidefinite ze...</td>\n",
       "      <td>J. Ekstrand, C. Erickson, D. Hay, L. Hogben, a...</td>\n",
       "      <td>note-on-positive-semidefinite-maximum-nullity-...</td>\n",
       "      <td>https://doi.org/10.13001/1081-3810.1506</td>\n",
       "    </tr>\n",
       "    <tr>\n",
       "      <th>4</th>\n",
       "      <td>2013-09-08</td>\n",
       "      <td>Potentially eventually exponentially positive ...</td>\n",
       "      <td>Involve</td>\n",
       "      <td>We introduce the study of potentially eventual...</td>\n",
       "      <td>M. Archer, M. Catral, C. Erickson, R. Haber, L...</td>\n",
       "      <td>potentially-eventually-exponentially-positive-...</td>\n",
       "      <td>https://doi.org/10.2140/involve.2013.6.261</td>\n",
       "    </tr>\n",
       "    <tr>\n",
       "      <th>5</th>\n",
       "      <td>2013-10-01</td>\n",
       "      <td>Positive semidefinite zero forcing</td>\n",
       "      <td>Linear Algebra Appl.</td>\n",
       "      <td>We establish a variety of properties of positi...</td>\n",
       "      <td>J. Ekstrand, C. Erickson, H.T. Hall, D. Hay, L...</td>\n",
       "      <td>positive-semidefinite-zero-forcing</td>\n",
       "      <td>https://doi.org/10.1016/j.laa.2013.05.020</td>\n",
       "    </tr>\n",
       "    <tr>\n",
       "      <th>6</th>\n",
       "      <td>2015-02-08</td>\n",
       "      <td>Sign patterns that require eventual exponentia...</td>\n",
       "      <td>Electron. J. Linear Algebra</td>\n",
       "      <td>Sign patterns that require exponential nonnega...</td>\n",
       "      <td>C. Erickson. \"Sign patterns that require event...</td>\n",
       "      <td>sign-patterns-that-require-eventual-exponentia...</td>\n",
       "      <td>https://doi.org/10.13001/1081-3810.3027</td>\n",
       "    </tr>\n",
       "    <tr>\n",
       "      <th>7</th>\n",
       "      <td>2016-08-16</td>\n",
       "      <td>Rainbow arithmetic progressions</td>\n",
       "      <td>J. Comb.</td>\n",
       "      <td>In this paper, we investigate the anti-Ramsey ...</td>\n",
       "      <td>S. Butler, C. Erickson, L. Hogben, K. Hogenson...</td>\n",
       "      <td>rainbow-arithmetic-progressions</td>\n",
       "      <td>https://doi.org/10.4310/JOC.2016.v7.n4.a3</td>\n",
       "    </tr>\n",
       "    <tr>\n",
       "      <th>8</th>\n",
       "      <td>2019-07-21</td>\n",
       "      <td>Restricted power domination and zero forcing p...</td>\n",
       "      <td>J. Comb. Optim.</td>\n",
       "      <td>A power dominating set of a graph is a set of ...</td>\n",
       "      <td>C. Bozeman, B. Brimkov, C. Erickson, D. Ferrer...</td>\n",
       "      <td>restricted-power-domination-and-zero-forcing-p...</td>\n",
       "      <td>https://arxiv.org/abs/1711.05190</td>\n",
       "    </tr>\n",
       "    <tr>\n",
       "      <th>9</th>\n",
       "      <td>2020-07-13</td>\n",
       "      <td>Properties of a &lt;i&gt;q&lt;/i&gt;-analogue for zero for...</td>\n",
       "      <td>Graphs Combin.</td>\n",
       "      <td>This paper investigates a &lt;i&gt;q&lt;/i&gt;-analogue of...</td>\n",
       "      <td>S. Butler, C. Erickson, S. Fallat, H.T. Hall, ...</td>\n",
       "      <td>properties-of-a-q-analogue-for-zero-forcing</td>\n",
       "      <td>https://arxiv.org/abs/1809.07640</td>\n",
       "    </tr>\n",
       "  </tbody>\n",
       "</table>\n",
       "</div>"
      ],
      "text/plain": [
       "     pub_date                                              title  \\\n",
       "0  2010-03-01             On nilpotence indices of sign patterns   \n",
       "1  2011-06-10  Constructions of potentially eventually positi...   \n",
       "2  2012-01-01  Sign patterns that allow strong eventual nonne...   \n",
       "3  2012-01-01  Note on positive semidefinite maximum nullity ...   \n",
       "4  2013-09-08  Potentially eventually exponentially positive ...   \n",
       "5  2013-10-01                 Positive semidefinite zero forcing   \n",
       "6  2015-02-08  Sign patterns that require eventual exponentia...   \n",
       "7  2016-08-16                    Rainbow arithmetic progressions   \n",
       "8  2019-07-21  Restricted power domination and zero forcing p...   \n",
       "9  2020-07-13  Properties of a <i>q</i>-analogue for zero for...   \n",
       "\n",
       "                         venue  \\\n",
       "0    Commun. Korean Math. Soc.   \n",
       "1                       nvolve   \n",
       "2  Electron. J. Linear Algebra   \n",
       "3  Electron. J. Linear Algebra   \n",
       "4                      Involve   \n",
       "5         Linear Algebra Appl.   \n",
       "6  Electron. J. Linear Algebra   \n",
       "7                     J. Comb.   \n",
       "8              J. Comb. Optim.   \n",
       "9               Graphs Combin.   \n",
       "\n",
       "                                             excerpt  \\\n",
       "0  The work in this paper was motivated by Eschen...   \n",
       "1  Potentially eventually positive (PEP) sign pat...   \n",
       "2  A new class of sign patterns contained in the ...   \n",
       "3  The definition of the positive semidefinite ze...   \n",
       "4  We introduce the study of potentially eventual...   \n",
       "5  We establish a variety of properties of positi...   \n",
       "6  Sign patterns that require exponential nonnega...   \n",
       "7  In this paper, we investigate the anti-Ramsey ...   \n",
       "8  A power dominating set of a graph is a set of ...   \n",
       "9  This paper investigates a <i>q</i>-analogue of...   \n",
       "\n",
       "                                            citation  \\\n",
       "0  C. Erickson and I.-J. Kim. ”On nilpotence indi...   \n",
       "1  M. Archer, M. Catral, C. Erickson, R. Haber, L...   \n",
       "2  M. Catral, C. Erickson, L. Hogben, D.D. Olesky...   \n",
       "3  J. Ekstrand, C. Erickson, D. Hay, L. Hogben, a...   \n",
       "4  M. Archer, M. Catral, C. Erickson, R. Haber, L...   \n",
       "5  J. Ekstrand, C. Erickson, H.T. Hall, D. Hay, L...   \n",
       "6  C. Erickson. \"Sign patterns that require event...   \n",
       "7  S. Butler, C. Erickson, L. Hogben, K. Hogenson...   \n",
       "8  C. Bozeman, B. Brimkov, C. Erickson, D. Ferrer...   \n",
       "9  S. Butler, C. Erickson, S. Fallat, H.T. Hall, ...   \n",
       "\n",
       "                                            url_slug  \\\n",
       "0             on-nilpotence-indices-of-sign-patterns   \n",
       "1  constructions-of-potentially-eventually-positi...   \n",
       "2  sign-patterns-that-allow-strong-eventual-nonne...   \n",
       "3  note-on-positive-semidefinite-maximum-nullity-...   \n",
       "4  potentially-eventually-exponentially-positive-...   \n",
       "5                 positive-semidefinite-zero-forcing   \n",
       "6  sign-patterns-that-require-eventual-exponentia...   \n",
       "7                    rainbow-arithmetic-progressions   \n",
       "8  restricted-power-domination-and-zero-forcing-p...   \n",
       "9        properties-of-a-q-analogue-for-zero-forcing   \n",
       "\n",
       "                                    paper_url  \n",
       "0   https://doi.org/10.4134/CKMS.2010.25.1.11  \n",
       "1  https://doi.org/10.2140/involve.2011.4.405  \n",
       "2     https://doi.org/10.13001/1081-3810.1502  \n",
       "3     https://doi.org/10.13001/1081-3810.1506  \n",
       "4  https://doi.org/10.2140/involve.2013.6.261  \n",
       "5   https://doi.org/10.1016/j.laa.2013.05.020  \n",
       "6     https://doi.org/10.13001/1081-3810.3027  \n",
       "7   https://doi.org/10.4310/JOC.2016.v7.n4.a3  \n",
       "8            https://arxiv.org/abs/1711.05190  \n",
       "9            https://arxiv.org/abs/1809.07640  "
      ]
     },
     "metadata": {},
     "execution_count": 5
    }
   ],
   "metadata": {
    "collapsed": false,
    "deletable": true,
    "editable": true
   }
  },
  {
   "cell_type": "markdown",
   "source": [
    "## Escape special characters\n",
    "\n",
    "YAML is very picky about how it takes a valid string, so we are replacing single and double quotes (and ampersands) with their HTML encoded equivilents. This makes them look not so readable in raw format, but they are parsed and rendered nicely."
   ],
   "metadata": {}
  },
  {
   "cell_type": "code",
   "execution_count": 6,
   "source": [
    "html_escape_table = {\n",
    "    \"&\": \"&amp;\",\n",
    "    '\"': \"&quot;\",\n",
    "    \"'\": \"&apos;\"\n",
    "    }\n",
    "\n",
    "def html_escape(text):\n",
    "    \"\"\"Produce entities within text.\"\"\"\n",
    "    return \"\".join(html_escape_table.get(c,c) for c in text)"
   ],
   "outputs": [],
   "metadata": {
    "collapsed": true,
    "deletable": true,
    "editable": true
   }
  },
  {
   "cell_type": "code",
   "execution_count": 7,
   "source": [
    "publications.loc[0]"
   ],
   "outputs": [
    {
     "output_type": "execute_result",
     "data": {
      "text/plain": [
       "pub_date                                            2010-03-01\n",
       "title                   On nilpotence indices of sign patterns\n",
       "venue                                Commun. Korean Math. Soc.\n",
       "excerpt      The work in this paper was motivated by Eschen...\n",
       "citation     C. Erickson and I.-J. Kim. ”On nilpotence indi...\n",
       "url_slug                on-nilpotence-indices-of-sign-patterns\n",
       "paper_url            https://doi.org/10.4134/CKMS.2010.25.1.11\n",
       "Name: 0, dtype: object"
      ]
     },
     "metadata": {},
     "execution_count": 7
    }
   ],
   "metadata": {}
  },
  {
   "cell_type": "code",
   "execution_count": 8,
   "source": [
    "for row, item in publications.iterrows():\n",
    "    print(item.title)"
   ],
   "outputs": [
    {
     "output_type": "stream",
     "name": "stdout",
     "text": [
      "On nilpotence indices of sign patterns\n",
      "Constructions of potentially eventually positive sign patterns with reducible positive part\n",
      "Sign patterns that allow strong eventual nonnegativity\n",
      "Note on positive semidefinite maximum nullity and positive semidefinite zero forcing number of partial 2-trees\n",
      "Potentially eventually exponentially positive sign patterns\n",
      "Positive semidefinite zero forcing\n",
      "Sign patterns that require eventual exponential nonnegativity\n",
      "Rainbow arithmetic progressions\n",
      "Restricted power domination and zero forcing problems\n",
      "Properties of a <i>q</i>-analogue for zero forcing\n"
     ]
    }
   ],
   "metadata": {}
  },
  {
   "cell_type": "markdown",
   "source": [
    "## Creating the markdown files\n",
    "\n",
    "This is where the heavy lifting is done. This loops through all the rows in the TSV dataframe, then starts to concatentate a big string (```md```) that contains the markdown for each type. It does the YAML metadata first, then does the description for the individual page."
   ],
   "metadata": {}
  },
  {
   "cell_type": "code",
   "execution_count": 9,
   "source": [
    "import os\n",
    "for row, item in publications.iterrows():\n",
    "    \n",
    "    md_filename = str(item.pub_date) + \"-\" + item.url_slug + \".md\"\n",
    "    html_filename = str(item.pub_date) + \"-\" + item.url_slug\n",
    "    year = str(item.pub_date).split('-')[0]\n",
    "    \n",
    "    ## YAML variables\n",
    "    \n",
    "    md = \"---\\ntitle: \\\"\"   + item.title + '\"\\n'\n",
    "    \n",
    "    md += \"\"\"collection: publications\"\"\"\n",
    "    \n",
    "    md += \"\"\"\\npermalink: /publication/\"\"\" + html_filename\n",
    "    \n",
    "    if len(str(item.excerpt)) > 5:\n",
    "        md += \"\\nexcerpt: '\" + html_escape(item.excerpt) + \"'\"\n",
    "    \n",
    "    md += \"\\ndate: \" + str(item.pub_date) \n",
    "    \n",
    "    md += \"\\nvenue: '\" + html_escape(item.venue) + \"'\"\n",
    "    \n",
    "    # if len(str(item.paper_url)) > 5:\n",
    "    #     md += \"\\npaperurl: '\" + item.paper_url + \"'\"\n",
    "    \n",
    "    md += \"\\ncitation: '\" + html_escape(item.citation) + \"'\"\n",
    "    \n",
    "    md += \"\\n---\"\n",
    "    \n",
    "    ## Markdown description for individual page\n",
    "        \n",
    "    if len(str(item.excerpt)) > 5:\n",
    "        md += \"\\n\" + html_escape(item.excerpt) + \"\\n\"\n",
    "    \n",
    "    if len(str(item.paper_url)) > 5:\n",
    "        md += \"\\n[Download paper here](\" + item.paper_url + \")\\n\" \n",
    "        \n",
    "    md += \"\\nRecommended citation: \" + item.citation\n",
    "    \n",
    "    md_filename = os.path.basename(md_filename)\n",
    "       \n",
    "    with open(\"../_publications/\" + md_filename, 'w') as f:\n",
    "        f.write(md)"
   ],
   "outputs": [],
   "metadata": {
    "collapsed": false,
    "deletable": true,
    "editable": true
   }
  },
  {
   "cell_type": "markdown",
   "source": [
    "These files are in the publications directory, one directory below where we're working from."
   ],
   "metadata": {}
  },
  {
   "cell_type": "code",
   "execution_count": 10,
   "source": [
    "!ls ../_publications/"
   ],
   "outputs": [
    {
     "output_type": "stream",
     "name": "stdout",
     "text": [
      "2010-03-01-on-nilpotence-indices-of-sign-patterns.md\n",
      "2011-06-10-constructions-of-potentially-eventually-positive-sign-patterns-with-reducible-positive-part.md\n",
      "2012-01-01-note-on-positive-semidefinite-maximum-nullity-and-positive-semidefinite-zero-forcing-number-of-partial-2-trees.md\n",
      "2012-01-01-sign-patterns-that-allow-strong-eventual-nonnegativity.md\n",
      "2013-09-08-potentially-eventually-exponentially-positive-sign-patterns.md\n",
      "2013-10-01-positive-semidefinite-zero-forcing.md\n",
      "2015-02-08-sign-patterns-that-require-eventual-exponential-nonnegativity.md\n",
      "2016-08-16-rainbow-arithmetic-progressions.md\n",
      "2019-07-21-restricted-power-domination-and-zero-forcing-problems.md\n",
      "2020-07-13-properties-of-a-q-analogue-for-zero-forcing.md\n"
     ]
    }
   ],
   "metadata": {
    "collapsed": false,
    "deletable": true,
    "editable": true
   }
  },
  {
   "cell_type": "code",
   "execution_count": 11,
   "source": [
    "!cat ../_publications/2013-09-08-potentially-eventually-exponentially-positive-sign-patterns.md"
   ],
   "outputs": [
    {
     "output_type": "stream",
     "name": "stdout",
     "text": [
      "---\n",
      "title: \"Potentially eventually exponentially positive sign patterns\"\n",
      "collection: publications\n",
      "permalink: /publication/2013-09-08-potentially-eventually-exponentially-positive-sign-patterns\n",
      "excerpt: 'We introduce the study of potentially eventually exponentially positive (PEEP) sign patterns and establish several results using the connections between these sign patterns and the potentially eventually positive (PEP) sign patterns. It is shown that the problem of characterizing PEEP sign patterns is not equivalent to that of characterizing PEP sign patterns. A characterization of all 2-by-2 and 3-by-3 PEEP sign patterns is given.'\n",
      "date: 2013-09-08\n",
      "venue: 'Involve'\n",
      "citation: 'M. Archer, M. Catral, C. Erickson, R. Haber, L. Hogben, X. Martinez-Rivera, and A. Ochoa. &quot;Potentially eventually exponentially positive sign patterns.&quot; <i>Involve</i> <b>6</b> (2013), No. 3, 261—271.'\n",
      "---\n",
      "We introduce the study of potentially eventually exponentially positive (PEEP) sign patterns and establish several results using the connections between these sign patterns and the potentially eventually positive (PEP) sign patterns. It is shown that the problem of characterizing PEEP sign patterns is not equivalent to that of characterizing PEP sign patterns. A characterization of all 2-by-2 and 3-by-3 PEEP sign patterns is given.\n",
      "\n",
      "[Download paper here](https://doi.org/10.2140/involve.2013.6.261)\n",
      "\n",
      "Recommended citation: M. Archer, M. Catral, C. Erickson, R. Haber, L. Hogben, X. Martinez-Rivera, and A. Ochoa. \"Potentially eventually exponentially positive sign patterns.\" <i>Involve</i> <b>6</b> (2013), No. 3, 261—271."
     ]
    }
   ],
   "metadata": {
    "collapsed": false,
    "deletable": true,
    "editable": true
   }
  },
  {
   "cell_type": "code",
   "execution_count": 12,
   "source": [
    "!cat ../_publications/2020-07-13-properties-of-a-q-analogue-for-zero-forcing.md"
   ],
   "outputs": [
    {
     "output_type": "stream",
     "name": "stdout",
     "text": [
      "---\n",
      "title: \"Properties of a <i>q</i>-analogue for zero forcing\"\n",
      "collection: publications\n",
      "permalink: /publication/2020-07-13-properties-of-a-q-analogue-for-zero-forcing\n",
      "excerpt: 'This paper investigates a <i>q</i>-analogue of zero forcing. Basic properties of this game are established including determining all graphs which have minimal cost 1 or 2 for all possible <i>q</i>, and finding the zero forcing number for all trees when <i>q</i>=1.'\n",
      "date: 2020-07-13\n",
      "venue: 'Graphs Combin.'\n",
      "citation: 'S. Butler, C. Erickson, S. Fallat, H.T. Hall, B. Kroschel, J.C.H. Lin, B. Shader, N. Warnberg, B. Yang. “Properties of a <i>q</i>-analogue for zero forcing.” <i>Graphs Combin.</i> <b>36</b> (2020), No. 5, 1401—1419.'\n",
      "---\n",
      "This paper investigates a <i>q</i>-analogue of zero forcing. Basic properties of this game are established including determining all graphs which have minimal cost 1 or 2 for all possible <i>q</i>, and finding the zero forcing number for all trees when <i>q</i>=1.\n",
      "\n",
      "[Download paper here](https://arxiv.org/abs/1809.07640)\n",
      "\n",
      "Recommended citation: S. Butler, C. Erickson, S. Fallat, H.T. Hall, B. Kroschel, J.C.H. Lin, B. Shader, N. Warnberg, B. Yang. “Properties of a <i>q</i>-analogue for zero forcing.” <i>Graphs Combin.</i> <b>36</b> (2020), No. 5, 1401—1419."
     ]
    }
   ],
   "metadata": {
    "collapsed": true,
    "deletable": true,
    "editable": true
   }
  },
  {
   "cell_type": "code",
   "execution_count": null,
   "source": [],
   "outputs": [],
   "metadata": {}
  }
 ],
 "metadata": {
  "kernelspec": {
   "name": "python3",
   "display_name": "Python 3.8.10 64-bit ('base': conda)"
  },
  "language_info": {
   "codemirror_mode": {
    "name": "ipython",
    "version": 3
   },
   "file_extension": ".py",
   "mimetype": "text/x-python",
   "name": "python",
   "nbconvert_exporter": "python",
   "pygments_lexer": "ipython3",
   "version": "3.8.10"
  },
  "interpreter": {
   "hash": "dca0ade3e726a953b501b15e8e990130d2b7799f14cfd9f4271676035ebe5511"
  }
 },
 "nbformat": 4,
 "nbformat_minor": 2
}