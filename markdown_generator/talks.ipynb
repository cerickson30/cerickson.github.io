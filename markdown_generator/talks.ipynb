{
 "cells": [
  {
   "cell_type": "markdown",
   "source": [
    "# Talks markdown generator for academicpages\n",
    "\n",
    "Takes a TSV of talks with metadata and converts them for use with [academicpages.github.io](academicpages.github.io). This is an interactive Jupyter notebook ([see more info here](http://jupyter-notebook-beginner-guide.readthedocs.io/en/latest/what_is_jupyter.html)). The core python code is also in `talks.py`. Run either from the `markdown_generator` folder after replacing `talks.tsv` with one containing your data.\n",
    "\n",
    "TODO: Make this work with BibTex and other databases, rather than Stuart's non-standard TSV format and citation style."
   ],
   "metadata": {
    "deletable": true,
    "editable": true
   }
  },
  {
   "cell_type": "code",
   "execution_count": 11,
   "source": [
    "import pandas as pd\n",
    "import os"
   ],
   "outputs": [],
   "metadata": {
    "collapsed": false,
    "deletable": true,
    "editable": true
   }
  },
  {
   "cell_type": "markdown",
   "source": [
    "## Data format\n",
    "\n",
    "The TSV needs to have the following columns: title, type, url_slug, venue, date, location, talk_url, description, with a header at the top. Many of these fields can be blank, but the columns must be in the TSV.\n",
    "\n",
    "- Fields that cannot be blank: `title`, `url_slug`, `date`. All else can be blank. `type` defaults to \"Talk\" \n",
    "- `date` must be formatted as YYYY-MM-DD.\n",
    "- `url_slug` will be the descriptive part of the .md file and the permalink URL for the page about the paper. \n",
    "    - The .md file will be `YYYY-MM-DD-[url_slug].md` and the permalink will be `https://[yourdomain]/talks/YYYY-MM-DD-[url_slug]`\n",
    "    - The combination of `url_slug` and `date` must be unique, as it will be the basis for your filenames\n",
    "\n",
    "This is how the raw file looks (it doesn't look pretty, use a spreadsheet or other program to edit and create)."
   ],
   "metadata": {}
  },
  {
   "cell_type": "code",
   "execution_count": 12,
   "source": [
    "!cat talks.tsv"
   ],
   "outputs": [
    {
     "output_type": "stream",
     "name": "stdout",
     "text": [
      "\n",
      "\n",
      "\n",
      "\n",
      "\n",
      "\n",
      "\n",
      "\n",
      "\n",
      "\n",
      "Restricted power domination\tTalk\ttalk-10\tSpecial Session on The Inverse Eigenvalue Problem of a Graph and Zero Forcing, 52nd Southeastern International Conference on Combinatorics, Graph Theory, and Computing\t2021-03-09\tBoca Raton, FL\t\t"
     ]
    }
   ],
   "metadata": {
    "collapsed": false
   }
  },
  {
   "cell_type": "markdown",
   "source": [
    "## Import TSV\n",
    "\n",
    "Pandas makes this easy with the read_csv function. We are using a TSV, so we specify the separator as a tab, or `\\t`.\n",
    "\n",
    "I found it important to put this data in a tab-separated values format, because there are a lot of commas in this kind of data and comma-separated values can get messed up. However, you can modify the import statement, as pandas also has read_excel(), read_json(), and others."
   ],
   "metadata": {}
  },
  {
   "cell_type": "code",
   "execution_count": 13,
   "source": [
    "talks = pd.read_csv(\"talks.tsv\", sep=\"\\t\", header=0)\n",
    "talks"
   ],
   "outputs": [
    {
     "output_type": "execute_result",
     "data": {
      "text/html": [
       "<div>\n",
       "<style scoped>\n",
       "    .dataframe tbody tr th:only-of-type {\n",
       "        vertical-align: middle;\n",
       "    }\n",
       "\n",
       "    .dataframe tbody tr th {\n",
       "        vertical-align: top;\n",
       "    }\n",
       "\n",
       "    .dataframe thead th {\n",
       "        text-align: right;\n",
       "    }\n",
       "</style>\n",
       "<table border=\"1\" class=\"dataframe\">\n",
       "  <thead>\n",
       "    <tr style=\"text-align: right;\">\n",
       "      <th></th>\n",
       "      <th>title</th>\n",
       "      <th>type</th>\n",
       "      <th>url_slug</th>\n",
       "      <th>venue</th>\n",
       "      <th>date</th>\n",
       "      <th>location</th>\n",
       "      <th>talk_url</th>\n",
       "      <th>description</th>\n",
       "    </tr>\n",
       "  </thead>\n",
       "  <tbody>\n",
       "    <tr>\n",
       "      <th>0</th>\n",
       "      <td>Strongly Eventually Nonnegative Matrices</td>\n",
       "      <td>Talk</td>\n",
       "      <td>talk-1</td>\n",
       "      <td>Special Session on Matrices and Graphs, AMS Ce...</td>\n",
       "      <td>2010-04-11</td>\n",
       "      <td>Saint Paul, MN</td>\n",
       "      <td>NaN</td>\n",
       "      <td>NaN</td>\n",
       "    </tr>\n",
       "    <tr>\n",
       "      <th>1</th>\n",
       "      <td>Potentially eventually positive and potentiall...</td>\n",
       "      <td>Talk</td>\n",
       "      <td>talk-2</td>\n",
       "      <td>Young Researchers Minisymposium on Combinatori...</td>\n",
       "      <td>2011-08-23</td>\n",
       "      <td>Braunschweig, Germany</td>\n",
       "      <td>NaN</td>\n",
       "      <td>NaN</td>\n",
       "    </tr>\n",
       "    <tr>\n",
       "      <th>2</th>\n",
       "      <td>Positive semidefinite maximum nullity is equal...</td>\n",
       "      <td>Talk</td>\n",
       "      <td>talk-3</td>\n",
       "      <td>Special Session on Matrices and Graphs, AMS Ce...</td>\n",
       "      <td>2011-10-14</td>\n",
       "      <td>Lincoln, NE</td>\n",
       "      <td>NaN</td>\n",
       "      <td>NaN</td>\n",
       "    </tr>\n",
       "    <tr>\n",
       "      <th>3</th>\n",
       "      <td>Sign Patterns That Allow Strong Eventual Nonne...</td>\n",
       "      <td>Talk</td>\n",
       "      <td>talk-4</td>\n",
       "      <td>Minisymposium on Matrices and Graphs, 2012 SIA...</td>\n",
       "      <td>2012-07-12</td>\n",
       "      <td>Minneapolis, MN</td>\n",
       "      <td>NaN</td>\n",
       "      <td>NaN</td>\n",
       "    </tr>\n",
       "    <tr>\n",
       "      <th>4</th>\n",
       "      <td>Sign patterns that require eventual exponentia...</td>\n",
       "      <td>Talk</td>\n",
       "      <td>talk-5</td>\n",
       "      <td>Special Session on Generalizations of Nonnegat...</td>\n",
       "      <td>2013-04-27</td>\n",
       "      <td>Ames, IA</td>\n",
       "      <td>NaN</td>\n",
       "      <td>NaN</td>\n",
       "    </tr>\n",
       "    <tr>\n",
       "      <th>5</th>\n",
       "      <td>Sign patterns that require eventual exponentia...</td>\n",
       "      <td>Talk</td>\n",
       "      <td>talk-6</td>\n",
       "      <td>Minisymposium on Sign Pattern Matrices, 18th I...</td>\n",
       "      <td>2013-06-06</td>\n",
       "      <td>Providence, RI</td>\n",
       "      <td>NaN</td>\n",
       "      <td>NaN</td>\n",
       "    </tr>\n",
       "    <tr>\n",
       "      <th>6</th>\n",
       "      <td>Upper triangular sign patterns that require ev...</td>\n",
       "      <td>Talk</td>\n",
       "      <td>talk-7</td>\n",
       "      <td>Minisymposium on Combinatorial Matrix Theory, ...</td>\n",
       "      <td>2016-07-15</td>\n",
       "      <td>Leuven, Belgium</td>\n",
       "      <td>NaN</td>\n",
       "      <td>NaN</td>\n",
       "    </tr>\n",
       "    <tr>\n",
       "      <th>7</th>\n",
       "      <td>Upper triangular sign patterns that require ev...</td>\n",
       "      <td>Talk</td>\n",
       "      <td>talk-8</td>\n",
       "      <td>Special Session on Combinatorial Matrix Theory...</td>\n",
       "      <td>2016-10-30</td>\n",
       "      <td>Minneapolis, MN</td>\n",
       "      <td>NaN</td>\n",
       "      <td>NaN</td>\n",
       "    </tr>\n",
       "    <tr>\n",
       "      <th>8</th>\n",
       "      <td>Zero forcing and other games on graphs</td>\n",
       "      <td>Talk</td>\n",
       "      <td>talk-9</td>\n",
       "      <td>Mathematics &amp; Statistics Department Colloquium...</td>\n",
       "      <td>2018-04-17</td>\n",
       "      <td>Northfield, MN</td>\n",
       "      <td>NaN</td>\n",
       "      <td>NaN</td>\n",
       "    </tr>\n",
       "    <tr>\n",
       "      <th>9</th>\n",
       "      <td>Restricted power domination</td>\n",
       "      <td>Talk</td>\n",
       "      <td>talk-10</td>\n",
       "      <td>Special Session on The Inverse Eigenvalue Prob...</td>\n",
       "      <td>2021-03-09</td>\n",
       "      <td>Boca Raton, FL</td>\n",
       "      <td>NaN</td>\n",
       "      <td>NaN</td>\n",
       "    </tr>\n",
       "  </tbody>\n",
       "</table>\n",
       "</div>"
      ],
      "text/plain": [
       "                                               title  type url_slug  \\\n",
       "0           Strongly Eventually Nonnegative Matrices  Talk   talk-1   \n",
       "1  Potentially eventually positive and potentiall...  Talk   talk-2   \n",
       "2  Positive semidefinite maximum nullity is equal...  Talk   talk-3   \n",
       "3  Sign Patterns That Allow Strong Eventual Nonne...  Talk   talk-4   \n",
       "4  Sign patterns that require eventual exponentia...  Talk   talk-5   \n",
       "5  Sign patterns that require eventual exponentia...  Talk   talk-6   \n",
       "6  Upper triangular sign patterns that require ev...  Talk   talk-7   \n",
       "7  Upper triangular sign patterns that require ev...  Talk   talk-8   \n",
       "8             Zero forcing and other games on graphs  Talk   talk-9   \n",
       "9                        Restricted power domination  Talk  talk-10   \n",
       "\n",
       "                                               venue        date  \\\n",
       "0  Special Session on Matrices and Graphs, AMS Ce...  2010-04-11   \n",
       "1  Young Researchers Minisymposium on Combinatori...  2011-08-23   \n",
       "2  Special Session on Matrices and Graphs, AMS Ce...  2011-10-14   \n",
       "3  Minisymposium on Matrices and Graphs, 2012 SIA...  2012-07-12   \n",
       "4  Special Session on Generalizations of Nonnegat...  2013-04-27   \n",
       "5  Minisymposium on Sign Pattern Matrices, 18th I...  2013-06-06   \n",
       "6  Minisymposium on Combinatorial Matrix Theory, ...  2016-07-15   \n",
       "7  Special Session on Combinatorial Matrix Theory...  2016-10-30   \n",
       "8  Mathematics & Statistics Department Colloquium...  2018-04-17   \n",
       "9  Special Session on The Inverse Eigenvalue Prob...  2021-03-09   \n",
       "\n",
       "                location  talk_url  description  \n",
       "0         Saint Paul, MN       NaN          NaN  \n",
       "1  Braunschweig, Germany       NaN          NaN  \n",
       "2            Lincoln, NE       NaN          NaN  \n",
       "3        Minneapolis, MN       NaN          NaN  \n",
       "4               Ames, IA       NaN          NaN  \n",
       "5         Providence, RI       NaN          NaN  \n",
       "6        Leuven, Belgium       NaN          NaN  \n",
       "7        Minneapolis, MN       NaN          NaN  \n",
       "8         Northfield, MN       NaN          NaN  \n",
       "9         Boca Raton, FL       NaN          NaN  "
      ]
     },
     "metadata": {},
     "execution_count": 13
    }
   ],
   "metadata": {
    "collapsed": false,
    "deletable": true,
    "editable": true
   }
  },
  {
   "cell_type": "markdown",
   "source": [
    "## Escape special characters\n",
    "\n",
    "YAML is very picky about how it takes a valid string, so we are replacing single and double quotes (and ampersands) with their HTML encoded equivilents. This makes them look not so readable in raw format, but they are parsed and rendered nicely."
   ],
   "metadata": {}
  },
  {
   "cell_type": "code",
   "execution_count": 14,
   "source": [
    "html_escape_table = {\n",
    "    \"&\": \"&amp;\",\n",
    "    '\"': \"&quot;\",\n",
    "    \"'\": \"&apos;\"\n",
    "    }\n",
    "\n",
    "def html_escape(text):\n",
    "    if type(text) is str:\n",
    "        return \"\".join(html_escape_table.get(c,c) for c in text)\n",
    "    else:\n",
    "        return \"False\""
   ],
   "outputs": [],
   "metadata": {
    "collapsed": false,
    "deletable": true,
    "editable": true
   }
  },
  {
   "cell_type": "markdown",
   "source": [
    "## Creating the markdown files\n",
    "\n",
    "This is where the heavy lifting is done. This loops through all the rows in the TSV dataframe, then starts to concatentate a big string (```md```) that contains the markdown for each type. It does the YAML metadata first, then does the description for the individual page."
   ],
   "metadata": {}
  },
  {
   "cell_type": "code",
   "execution_count": 15,
   "source": [
    "loc_dict = {}\n",
    "\n",
    "for row, item in talks.iterrows():\n",
    "    \n",
    "    md_filename = str(item.date) + \"-\" + item.url_slug + \".md\"\n",
    "    html_filename = str(item.date) + \"-\" + item.url_slug \n",
    "    year = item.date[:4]\n",
    "    \n",
    "    md = \"---\\ntitle: \\\"\"   + item.title + '\"\\n'\n",
    "    md += \"collection: talks\" + \"\\n\"\n",
    "    \n",
    "    if len(str(item.type)) > 3:\n",
    "        md += 'type: \"' + item.type + '\"\\n'\n",
    "    else:\n",
    "        md += 'type: \"Talk\"\\n'\n",
    "    \n",
    "    md += \"permalink: /talks/\" + html_filename + \"\\n\"\n",
    "    \n",
    "    if len(str(item.venue)) > 3:\n",
    "        md += 'venue: \"' + item.venue + '\"\\n'\n",
    "        \n",
    "    if len(str(item.location)) > 3:\n",
    "        md += \"date: \" + str(item.date) + \"\\n\"\n",
    "    \n",
    "    if len(str(item.location)) > 3:\n",
    "        md += 'location: \"' + str(item.location) + '\"\\n'\n",
    "           \n",
    "    md += \"---\\n\"\n",
    "    \n",
    "    \n",
    "    if len(str(item.talk_url)) > 3:\n",
    "        md += \"\\n[More information here](\" + item.talk_url + \")\\n\" \n",
    "        \n",
    "    \n",
    "    if len(str(item.description)) > 3:\n",
    "        md += \"\\n\" + html_escape(item.description) + \"\\n\"\n",
    "        \n",
    "        \n",
    "    md_filename = os.path.basename(md_filename)\n",
    "    #print(md)\n",
    "    \n",
    "    with open(\"../_talks/\" + md_filename, 'w') as f:\n",
    "        f.write(md)"
   ],
   "outputs": [],
   "metadata": {
    "collapsed": false,
    "deletable": true,
    "editable": true
   }
  },
  {
   "cell_type": "markdown",
   "source": [
    "These files are in the talks directory, one directory below where we're working from."
   ],
   "metadata": {}
  },
  {
   "cell_type": "code",
   "execution_count": 16,
   "source": [
    "!ls ../_talks"
   ],
   "outputs": [
    {
     "output_type": "stream",
     "name": "stdout",
     "text": [
      "2010-04-11-talk-1.md  2013-04-27-talk-5.md  2018-04-17-talk-9.md\n",
      "2011-08-23-talk-2.md  2013-06-06-talk-6.md  2021-03-09-talk-10.md\n",
      "2011-10-14-talk-3.md  2016-07-15-talk-7.md  talkmap.ipynb\n",
      "2012-07-12-talk-4.md  2016-10-30-talk-8.md\n"
     ]
    }
   ],
   "metadata": {
    "collapsed": false,
    "deletable": true,
    "editable": true
   }
  },
  {
   "cell_type": "code",
   "execution_count": 18,
   "source": [
    "!cat ../_talks/2021-03-09-talk-10.md"
   ],
   "outputs": [
    {
     "output_type": "stream",
     "name": "stdout",
     "text": [
      "---\n",
      "title: \"Restricted power domination\"\n",
      "collection: talks\n",
      "type: \"Talk\"\n",
      "permalink: /talks/2021-03-09-talk-10\n",
      "venue: \"Special Session on The Inverse Eigenvalue Problem of a Graph and Zero Forcing, 52nd Southeastern International Conference on Combinatorics, Graph Theory, and Computing\"\n",
      "date: 2021-03-09\n",
      "location: \"Boca Raton, FL\"\n",
      "---\n"
     ]
    }
   ],
   "metadata": {
    "collapsed": false,
    "deletable": true,
    "editable": true
   }
  },
  {
   "cell_type": "code",
   "execution_count": null,
   "source": [],
   "outputs": [],
   "metadata": {}
  }
 ],
 "metadata": {
  "kernelspec": {
   "name": "python3",
   "display_name": "Python 3.8.10 64-bit ('base': conda)"
  },
  "language_info": {
   "codemirror_mode": {
    "name": "ipython",
    "version": 3
   },
   "file_extension": ".py",
   "mimetype": "text/x-python",
   "name": "python",
   "nbconvert_exporter": "python",
   "pygments_lexer": "ipython3",
   "version": "3.8.10"
  },
  "interpreter": {
   "hash": "dca0ade3e726a953b501b15e8e990130d2b7799f14cfd9f4271676035ebe5511"
  }
 },
 "nbformat": 4,
 "nbformat_minor": 2
}